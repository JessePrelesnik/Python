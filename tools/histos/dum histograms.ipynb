{
 "metadata": {
  "name": "",
  "signature": "sha256:a6630f292c3ff5006442bac291e5a435a130aa73e165dbf60d0c29e7a32f53a4"
 },
 "nbformat": 3,
 "nbformat_minor": 0,
 "worksheets": [
  {
   "cells": [
    {
     "cell_type": "code",
     "collapsed": false,
     "input": [
      "import matplotlib.pyplot as plt \n",
      "import numpy as np\n",
      "from matplotlib.legend_handler import HandlerLine2D\n",
      "import matplotlib.lines as mlines\n",
      "from scipy.interpolate import interp1d\n",
      "from scipy.interpolate import griddata\n",
      "\n",
      "%matplotlib inline "
     ],
     "language": "python",
     "metadata": {},
     "outputs": [],
     "prompt_number": 4
    },
    {
     "cell_type": "code",
     "collapsed": false,
     "input": [
      "# phi1 phi2\n",
      "\n",
      "#This is the phi/psi data from the 2CV PBMetaD simulation, no correction \n",
      "##! FIELDS time phi1 psi1 phi2 psi2 phi3 psi3 metad.bias Ct_phi1 Ct_psi1 Ct_phi2 Ct_psi2 Ct_phi3 Ct_psi3\n",
      "##           0    1   2     3   4    5   6    7              8     9       10      11       12     13\n",
      "data=np.genfromtxt('wts',comments='#')\n",
      "#make 2D histogram then replace all zeros with 1e-15\n",
      "\n"
     ],
     "language": "python",
     "metadata": {},
     "outputs": [],
     "prompt_number": 8
    },
    {
     "cell_type": "code",
     "collapsed": false,
     "input": [
      "beta=1/8.314e-3/300\n",
      "hist1, bins1 = np.histogram(np.log(data[:,0])/beta, bins=50,normed=True)\n",
      "width = 0.7 * (bins1[1] - bins1[0])\n",
      "center = (bins1[:-1] + bins1[1:]) / 2\n",
      "\n",
      "fig = plt.figure(figsize=(6,4))\n",
      "\n",
      "\n",
      "plt.bar(center, hist1, align='center', width=width)\n",
      "\n",
      "plt.xlabel('$wt value$')\n",
      "\n",
      "\n",
      "plt.show()"
     ],
     "language": "python",
     "metadata": {},
     "outputs": [
      {
       "metadata": {},
       "output_type": "display_data",
       "png": "[encoded data removed]",
       "text": [
        "<matplotlib.figure.Figure at 0x10e48d190>"
       ]
      }
     ],
     "prompt_number": 19
    },
    {
     "cell_type": "code",
     "collapsed": false,
     "input": [
      "beta=1/8.314e-3/300\n",
      "hist1, bins1 = np.histogram(np.log(data[:,1])/beta, bins=50,normed=True)\n",
      "width = 0.7 * (bins1[1] - bins1[0])\n",
      "center = (bins1[:-1] + bins1[1:]) / 2\n",
      "\n",
      "fig = plt.figure(figsize=(6,4))\n",
      "\n",
      "\n",
      "\n",
      "plt.bar(center, hist1, align='center', width=width)\n",
      "\n",
      "plt.xlabel('$wt value$')\n",
      "\n",
      "\n",
      "plt.show()"
     ],
     "language": "python",
     "metadata": {},
     "outputs": [
      {
       "metadata": {},
       "output_type": "display_data",
       "png": "[encoded data removed]",
       "text": [
        "<matplotlib.figure.Figure at 0x10e480a50>"
       ]
      }
     ],
     "prompt_number": 20
    },
    {
     "cell_type": "code",
     "collapsed": false,
     "input": [],
     "language": "python",
     "metadata": {},
     "outputs": []
    }
   ],
   "metadata": {}
  }
 ]
}