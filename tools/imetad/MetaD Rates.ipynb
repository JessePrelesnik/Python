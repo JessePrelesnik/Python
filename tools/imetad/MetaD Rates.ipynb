{
 "cells": [
  {
   "cell_type": "markdown",
   "metadata": {},
   "source": [
    "# basic analysis from https://doi.org/10.1021/acs.jpca.5b10667 (Jim and Kelly MetaD rates paper) "
   ]
  },
  {
   "cell_type": "code",
   "execution_count": 1,
   "metadata": {
    "collapsed": false
   },
   "outputs": [
    {
     "name": "stderr",
     "output_type": "stream",
     "text": [
      "/Users/jpfaendt/anaconda/lib/python2.7/site-packages/matplotlib/font_manager.py:273: UserWarning: Matplotlib is building the font cache using fc-list. This may take a moment.\n",
      "  warnings.warn('Matplotlib is building the font cache using fc-list. This may take a moment.')\n"
     ]
    }
   ],
   "source": [
    "#libraries needed\n",
    "import matplotlib.pyplot as plt \n",
    "import numpy as np\n",
    "from matplotlib.legend_handler import HandlerLine2D\n",
    "import matplotlib.lines as mlines\n",
    "from scipy.optimize import curve_fit\n",
    "from scipy.misc import factorial\n",
    "from scipy.stats import ks_2samp\n",
    "from scipy import stats"
   ]
  },
  {
   "cell_type": "code",
   "execution_count": 3,
   "metadata": {
    "collapsed": false
   },
   "outputs": [],
   "source": [
    "# the data frame is a 2 column list of numbers from one of my MD scripts (units = sec)\n",
    "# column one is the 'accelerated' time (esacpe time in MD multipled by alpha)\n",
    "datain=np.genfromtxt('fu.txt')\n",
    "data=datain[:,1]*1e9\n",
    "#rint np.size(data)\n",
    "#data now in \"ns for each escape event\n",
    "min=np.min(data)\n",
    "max=np.max(data)\n",
    "bins=10*np.size(data)\n",
    "\n",
    "#logscale of times\n",
    "time=np.logspace(np.log10(min),np.log10(max),num=bins)\n",
    "mu=np.mean(data)\n",
    "\n",
    "#print time\n",
    "time_centers = np.r_[0.5 * (time[:-1] + time[1:])]\n",
    "#print time_centers\n",
    "#this is because MATLAB works on the bin centers, numpy works on the bin edges\n"
   ]
  },
  {
   "cell_type": "code",
   "execution_count": 4,
   "metadata": {
    "collapsed": false
   },
   "outputs": [
    {
     "data": {
      "text/plain": [
       "KstestResult(statistic=0.073096837534262771, pvalue=0.00036614029697146222)"
      ]
     },
     "execution_count": 4,
     "metadata": {},
     "output_type": "execute_result"
    }
   ],
   "source": [
    "stats.kstest(data,'gamma',args=stats.gamma.fit(data))\n"
   ]
  },
  {
   "cell_type": "code",
   "execution_count": 5,
   "metadata": {
    "collapsed": false
   },
   "outputs": [],
   "source": [
    "def analyticalCDF(times,tau):\n",
    "    return 1-np.exp(-times/tau)\n",
    "    "
   ]
  },
  {
   "cell_type": "code",
   "execution_count": 6,
   "metadata": {
    "collapsed": false
   },
   "outputs": [
    {
     "name": "stdout",
     "output_type": "stream",
     "text": [
      "124.559790936\n",
      "4.40660863332\n"
     ]
    }
   ],
   "source": [
    "print np.std(data)\n",
    "print stats.sem(data)"
   ]
  },
  {
   "cell_type": "code",
   "execution_count": 7,
   "metadata": {
    "collapsed": false
   },
   "outputs": [],
   "source": [
    "#Make histogram and CDF\n",
    "hist, bins2=np.histogram(data,bins=time,density=False)\n",
    "cdf=np.cumsum(hist)*1.0/data.size\n"
   ]
  },
  {
   "cell_type": "code",
   "execution_count": 8,
   "metadata": {
    "collapsed": false
   },
   "outputs": [
    {
     "name": "stdout",
     "output_type": "stream",
     "text": [
      "mu (ns)\t\t81.73272479\n",
      "taufit (ns)\t57.5940687355\n"
     ]
    }
   ],
   "source": [
    "#Fit the CDF \n",
    "taufit, pcov = curve_fit(analyticalCDF,time_centers, cdf,mu)\n",
    "print \"mu (ns)\\t\\t\" ,mu\n",
    "print \"taufit (ns)\\t\" ,taufit[0]\n"
   ]
  },
  {
   "cell_type": "code",
   "execution_count": 9,
   "metadata": {
    "collapsed": false
   },
   "outputs": [
    {
     "data": {
      "image/png": "[encoded data removed]",
      "text/plain": [
       "<matplotlib.figure.Figure at 0x10e3cc850>"
      ]
     },
     "metadata": {},
     "output_type": "display_data"
    }
   ],
   "source": [
    "#lets make some plots\n",
    "%matplotlib inline \n",
    "fig = plt.figure(figsize=(6,6))\n",
    "fig.subplots_adjust(left=None, bottom=None, right=None, top=None, wspace=None, hspace=0.2)\n",
    "\n",
    "axes = fig.add_subplot(111)\n",
    "axes.plot(bins2[1:bins],cdf,label='$CDF$')\n",
    "axes.set_xscale('log')\n",
    "axes.plot(time_centers,analyticalCDF(time_centers,taufit),label='$analytical\\ CDF$')\n",
    "first_legend = plt.legend(loc=0)\n",
    "axes.set_xlabel('$log\\ time\\ (ns)$')\n",
    "axes.set_ylabel('$P_{n\\geq1}$')\n",
    "plt.show()"
   ]
  },
  {
   "cell_type": "code",
   "execution_count": 10,
   "metadata": {
    "collapsed": false
   },
   "outputs": [],
   "source": [
    "#generate  random data points from the analytical fit based on taufit\n",
    "points=1\n",
    "randdata=np.random.gamma(1,taufit,np.size(data)*points)\n",
    "\n",
    "#perfrom the KS test to see if the data points from MetaD are statistically\n",
    "#the same as the data points from the analytical fit\n",
    "stat,p=ks_2samp(data,randdata)"
   ]
  },
  {
   "cell_type": "code",
   "execution_count": 11,
   "metadata": {
    "collapsed": false
   },
   "outputs": [
    {
     "name": "stdout",
     "output_type": "stream",
     "text": [
      "mu: 81.73272479\n",
      "mu_sem: 4.40660863332\n",
      "sigma: 124.637713866\n",
      "t_m: 35.5623\n",
      "tau: [ 57.59406874]\n",
      "mu_sigma_ratio: 0.65576238728\n",
      "log2mu_median_ratio: 1.59305803471\n",
      "tau_mu_ratio: [ 0.70466351]\n",
      "p-value: 0.000213515608967\n",
      "ks-stat: 0.10625\n",
      "events recorded: 800\n"
     ]
    }
   ],
   "source": [
    "#data table: \n",
    "print \"mu:\" , np.mean(data)\n",
    "print \"mu_sem:\", stats.sem(data)\n",
    "print \"sigma:\", np.std(data,ddof=1) \n",
    "print \"t_m:\", np.median(data)\n",
    "print \"tau:\", taufit\n",
    "print \"mu_sigma_ratio:\", np.mean(data)/np.std(data,ddof=1)\n",
    "print \"log2mu_median_ratio:\", np.log(2)*np.mean(data)/np.median(data)\n",
    "print \"tau_mu_ratio:\", taufit/np.mean(data)\n",
    "print \"p-value:\" , p\n",
    "print \"ks-stat:\" , stat\n",
    "print \"events recorded:\" ,  np.size(data)"
   ]
  },
  {
   "cell_type": "markdown",
   "metadata": {},
   "source": [
    "### Random sampling on data set - I think this will bootstrap the data and then do the KS analysis"
   ]
  },
  {
   "cell_type": "code",
   "execution_count": 12,
   "metadata": {
    "collapsed": false
   },
   "outputs": [],
   "source": [
    "##random sampling on data set\n",
    "def sampling(data,num_iters,sampsize):\n",
    "   # if sampsize > 100 \n",
    "   #     sampsize = 100 \n",
    "        \n",
    "        \n",
    "    means=np.array([0.0])\n",
    "    pvals=np.array([0.0])\n",
    "    points=1e4 #number of sampling points for p-val\n",
    "    alpha=0.05\n",
    "    reject=0.0\n",
    "    #for i in range((num_iters)):\n",
    "    while np.size(means) <= num_iters: \n",
    "        smalldata=np.random.choice(data,sampsize,replace=True)\n",
    "        #hist / CDF fit / etc\n",
    "        min=np.min(smalldata)\n",
    "        max=np.max(smalldata)\n",
    "        bins=10*np.size(smalldata)\n",
    "        time=np.logspace(np.log10(min),np.log10(max),num=bins)\n",
    "        mu=np.mean(smalldata)\n",
    "        time_centers = np.r_[0.5 * (time[:-1] + time[1:])]\n",
    "        hist, bins2=np.histogram(smalldata,bins=time,density=False)\n",
    "        cdf=np.cumsum(hist)*1.0/smalldata.size\n",
    "        taufit, pcov = curve_fit(analyticalCDF,time_centers, cdf,mu)\n",
    "        #analysis \n",
    "        randdata=np.random.gamma(1,taufit,np.size(data)*points)\n",
    "        stat,p=ks_2samp(smalldata,randdata)\n",
    "        if p > alpha:\n",
    "            means[means.size-1]=mu\n",
    "            pvals[pvals.size-1]=p\n",
    "            #debugprint p, mu\n",
    "            means.resize(means.size+1)\n",
    "            pvals.resize(pvals.size+1)\n",
    "        if p < alpha:\n",
    "            reject=reject+1\n",
    "    #this is just book keeping to remove the last 0 element\n",
    "    means=means[:(means.size-1)]\n",
    "    pvals=pvals[:(pvals.size-1)]\n",
    "    return means, pvals, reject"
   ]
  },
  {
   "cell_type": "code",
   "execution_count": 23,
   "metadata": {
    "collapsed": false
   },
   "outputs": [
    {
     "data": {
      "text/plain": [
       "{'rxdata_450_2.txt': [4.0168908747228267,\n",
       "  0.015442182297623645,\n",
       "  0.4880804576285841,\n",
       "  0.58681435185115038,\n",
       "  9.0]}"
      ]
     },
     "execution_count": 23,
     "metadata": {},
     "output_type": "execute_result"
    }
   ],
   "source": [
    "#run the sampling\n",
    "#want to sample all rx*.txt , store in a dictionary (show me how to print the dictionary)\n",
    "\n",
    "# Easiest way to to do what you want is this (assuming you'll always be doing it in an ipython notebook):\n",
    "rx_filenames = !ls rx*.txt\n",
    "rx_filenames = !ls rxdata_600K_100K.txt rxdata_525K_100K.txt rxdata_450_3.txt rxdata_375_1.txt rxdata_300_100K.txt NEW_525K_unbias.dat.dat NEW_600K_unbias.dat.dat NEW_900K_unbias.dat.dat NEW_1200K_unbias.dat.dat rxdata_300_200K.txt rxdata_300_100K.txt rxdata_300_20K.txt final_20K/rxdata_300.txt rxdata_300_5K.txt rxdata_300_1K.txt rxdata_300_.5K.txt rxdata_300_.05K.txt rxdata_300_.025K.txt rxdata_300_.005K.txt\n",
    "rx_filenames = !ls rxdata_450_2.txt\n",
    "# If you want to be able to do something similar in a .py file then use os.listdir():\n",
    " #import os\n",
    "#rx_filenames = [x for x in os.listdir('.') if x[-4]: == '.txt']\n",
    "                             \n",
    "results = {}   # Initialize your dictionary of results \n",
    "\n",
    "\n",
    "for name in rx_filenames:\n",
    "    datain=np.genfromtxt(name)\n",
    "    data=datain[:,1]*1e9\n",
    "    niter=1000 # how many runs\n",
    "    size=.5 # how big of a sample size to take as a percentage of the total set\n",
    "    means,pvals,reject=sampling(data,niter,np.int(size*np.size(data)))\n",
    "    #results[name] = [np.mean(means),stats.sem(means),np.std(means),np.mean(pvals),reject,means,pvals]\n",
    "    results[name] = [np.mean(means),stats.sem(means),np.std(means),np.mean(pvals),reject]\n",
    "     \n",
    "# to get the results for a specific filename just use:\n",
    "#results[filename]\n",
    "# it will return a list where index 0 is mu, 1 is sem, 2 is avg-p\n",
    "\n",
    "# to print the whole dictionary type\n",
    "results\n",
    "# this will only work if you don't have any other commands later in the cell that return output.  If you want\n",
    "# it to print before other stuff you'll have to use print (but it won't print as a table if you use \"print\" unless\n",
    "# you loop through each item in results with your print statement"
   ]
  },
  {
   "cell_type": "code",
   "execution_count": null,
   "metadata": {
    "collapsed": false
   },
   "outputs": [],
   "source": [
    "#analysis of sampling\n",
    "%matplotlib inline \n",
    "fig = plt.figure(figsize=(6,6))\n",
    "fig.subplots_adjust(left=None, bottom=None, right=None, top=None, wspace=.2, hspace=0.2)\n",
    "xr=np.arange(0,means.size)\n",
    "axes = fig.add_subplot(211)\n",
    "axes.plot(xr,means,label='sample means')\n",
    "axes.set_xlabel('iter')\n",
    "axes.set_ylabel('sample mean')\n",
    "axes = fig.add_subplot(212)\n",
    "axes.plot(xr,pvals,label='sample ps')\n",
    "axes.set_xlabel('iter')\n",
    "axes.set_ylabel('sample p')\n",
    "plt.show()"
   ]
  },
  {
   "cell_type": "code",
   "execution_count": null,
   "metadata": {
    "collapsed": false
   },
   "outputs": [],
   "source": []
  }
 ],
 "metadata": {
  "anaconda-cloud": {},
  "kernelspec": {
   "display_name": "Python [default]",
   "language": "python",
   "name": "python2"
  },
  "language_info": {
   "codemirror_mode": {
    "name": "ipython",
    "version": 2
   },
   "file_extension": ".py",
   "mimetype": "text/x-python",
   "name": "python",
   "nbconvert_exporter": "python",
   "pygments_lexer": "ipython2",
   "version": "2.7.12"
  }
 },
 "nbformat": 4,
 "nbformat_minor": 0
}
