{
 "cells": [
  {
   "cell_type": "markdown",
   "metadata": {},
   "source": [
    "Jim's MetaD convergence script, also shows fast file readin using streaming vs slow file readin vs. np.getfromtext"
   ]
  },
  {
   "cell_type": "code",
   "execution_count": null,
   "metadata": {
    "collapsed": false
   },
   "outputs": [],
   "source": [
    "import numpy as np\n",
    "import matplotlib.pyplot as plt\n",
    "import glob\n",
    "import os\n",
    "from matplotlib.patches import Rectangle\n",
    "\n"
   ]
  },
  {
   "cell_type": "code",
   "execution_count": null,
   "metadata": {
    "collapsed": false
   },
   "outputs": [],
   "source": [
    "# define all variables for convergence script\n",
    "# these will pass to the bash magic below used to call plumed sum_hills \n",
    "dir=\"MetaD_converge\" #where the intermediate fes will be stored\n",
    "hills=\"MetaD/HILLS\"  #your HILLS file from the simulation\n",
    "finalfes='MetaD/fes.dat' #the final fes.dat file \n",
    "stride=1000\n",
    "kT=8.314e-3*300 #throughout we convert to kcal, but the HILLS are assumed to be in GROMACS units (kJ)\n",
    "\n",
    "\n",
    "## here is where you set the boxes to define convergence regions\n",
    "C1=[-1.5,1.0] #center of box 1\n",
    "C2=[1.0,-.5]\n",
    "edge1=1.0 #edge of box1 \n",
    "edge2=1.0"
   ]
  },
  {
   "cell_type": "code",
   "execution_count": null,
   "metadata": {
    "collapsed": false
   },
   "outputs": [],
   "source": [
    "%%bash -s \"$dir\" \"$hills\" \"$stride\" \"$kT\"\n",
    "# calling sum hills and output to devnul \n",
    "HILLSFILE=HILLS\n",
    "rm -rf $1\n",
    "mkdir $1\n",
    "cp $2 $1 \n",
    "cd $1 \n",
    "plumed sum_hills --hills $HILLSFILE --kt $4 --stride $3  >& /dev/null "
   ]
  },
  {
   "cell_type": "markdown",
   "metadata": {},
   "source": [
    "#### Graph the final FES and plot the two squares on top of it"
   ]
  },
  {
   "cell_type": "code",
   "execution_count": null,
   "metadata": {
    "collapsed": false
   },
   "outputs": [],
   "source": [
    "%matplotlib inline\n",
    "\n",
    "#read the data in from a text file \n",
    "fesdata = np.genfromtxt(finalfes,comments='#');\n",
    "\n",
    "fesdata = fesdata[:,0:3]\n",
    "#what was your grid size? this calculates it \n",
    "dim=int(np.sqrt(np.size(fesdata)/3))\n",
    "\n",
    "#some post-processing to be compatible with contourf \n",
    "X=np.reshape(fesdata[:,0],[dim,dim],order=\"F\")  #order F was 20% faster than A/C\n",
    "Y=np.reshape(fesdata[:,1],[dim,dim],order=\"F\") \n",
    "Z=np.reshape((fesdata[:,2]-np.min(fesdata[:,2]))/4.184,[dim,dim],order=\"F\")  #convert to kcal/mol\n",
    "\n",
    "#what spacing do you want?  assume units are in kJ/mol\n",
    "spacer=1  #this means 1kcal/mol spacing\n",
    "lines=20\n",
    "levels=np.linspace(0,lines*spacer,num=(lines+1),endpoint=True)\n",
    "\n",
    "fig=plt.figure(figsize=(8,6)) \n",
    "axes = fig.add_subplot(111)\n",
    "\n",
    "xlabel='$\\Phi$'\n",
    "ylabel='$\\Psi$'\n",
    "plt.contourf(X, Y, Z, levels, cmap=plt.cm.bone,)\n",
    "plt.colorbar()\n",
    "axes.set_xlabel(xlabel, fontsize=20)\n",
    "axes.set_ylabel(ylabel, fontsize=20)\n",
    "\n",
    "currentAxis = plt.gca()\n",
    "currentAxis.add_patch(Rectangle((C1[0]-edge1/2, C1[1]-edge1/2), edge1, edge1,facecolor='none',edgecolor='yellow',linewidth='3'))\n",
    "currentAxis.add_patch(Rectangle((C2[0]-edge2/2, C2[1]-edge2/2), edge2, edge2,facecolor='none',edgecolor='yellow',linewidth='3'))\n",
    "\n",
    "plt.show()\n",
    "\n"
   ]
  },
  {
   "cell_type": "markdown",
   "metadata": {},
   "source": [
    "The two functions below calculate the average free energy of a region by integrating over whichever boxes you defined above.  Since the FES is discrete and points are equally spaced, this is trivially taken as a summation: \n",
    "\n",
    "$F_A = \\sum_A exp\\left(-F_{Ai}/k_BT\\right) $\n",
    "\n",
    "Don't forget that this is formally a free-energy plus some trivial constant but that the constant is equal for both regions $A$ and $B$ so that you will obtain the same free-energy difference irrespective of the reference point. \n",
    "\n",
    "On the other hand, it doesn't make much sense to just use the arbitrary nubmers coming from sum_hills, which are related only to the amount of aggregate bias produced in your simulation.  This is why we reference the lowest point to zero on the contour plots.\n",
    "\n",
    "I left both functions in as a teaching tool to show how slow np.genfromtext is "
   ]
  },
  {
   "cell_type": "code",
   "execution_count": null,
   "metadata": {
    "collapsed": false
   },
   "outputs": [],
   "source": [
    "def diffNP(file):\n",
    "    #read the data in from a text file \n",
    "    # note - this is very slow \n",
    "    fesdata = np.genfromtxt(file,comments='#');\n",
    "    A=0.0\n",
    "    B=0.0\n",
    "\n",
    "    dim=np.shape(fesdata)[0]\n",
    "    for i in range(0, dim):\n",
    "        x=fesdata[i][0]\n",
    "        y=fesdata[i][1]\n",
    "        z=fesdata[i][2]\n",
    "        if  x < C1[0]+edge1/2 and x > C1[0]-edge1/2 and y > C1[1]-edge1/2 and y < C1[1]+edge1/2:\n",
    "           A+=np.exp(-z/kT)\n",
    "        if  x < C2[0]+edge2/2 and x > C2[0]-edge2/2 and y > C2[1]-edge2/2 and y < C2[1]+edge2/2:\n",
    "           B+=np.exp(-z/kT)\n",
    "\n",
    "    A=-kT*np.log(A)\n",
    "    B=-kT*np.log(B)\n",
    "    diff=(A-B)/4.184 #output in kcal\n",
    "    return diff"
   ]
  },
  {
   "cell_type": "code",
   "execution_count": null,
   "metadata": {
    "collapsed": false
   },
   "outputs": [],
   "source": [
    "def diff(file):\n",
    "\n",
    "    kT=8.314e-3*300\n",
    "    A=0.0\n",
    "    B=0.0\n",
    "    f = open(file, 'r')\n",
    "    for line in f:\n",
    "        if line[:1] != '#':\n",
    "            line=line.strip()\n",
    "            if line:\n",
    "                columns = line.split()\n",
    "                x=float(columns[0])\n",
    "                y=float(columns[1])\n",
    "                z=float(columns[2])\n",
    "                if  x < C1[0]+edge1/2 and x > C1[0]-edge1/2 and y > C1[1]-edge1/2 and y < C1[1]+edge1/2:\n",
    "                    A+=np.exp(-z/kT)\n",
    "                if  x < C2[0]+edge2/2 and x > C2[0]-edge2/2 and y > C2[1]-edge2/2 and y < C2[1]+edge2/2:\n",
    "                    B+=np.exp(-z/kT)\n",
    "\n",
    "    f.close\n",
    "\n",
    "    A=-kT*np.log(A)\n",
    "    B=-kT*np.log(B)\n",
    "    diff=(A-B)/4.184\n",
    "    return diff"
   ]
  },
  {
   "cell_type": "code",
   "execution_count": null,
   "metadata": {
    "collapsed": false
   },
   "outputs": [],
   "source": [
    "diffvec=None\n",
    "rootdir = '/Users/jpfaendt/Learning/Python/ALA2_MetaD/MetaD_converge'\n",
    "i=0\n",
    "diffvec=np.zeros((1,2))\n",
    "\n",
    "#the variable func defines which function you are going to call to read in your data files fes_*.dat\n",
    "#func=diffNP uses the numpy read in (SLOW)\n",
    "#func=diff streams in data from a text file\n",
    "#to experience the differnece , uncomment out the print statements and run each way\n",
    "\n",
    "func=diff\n",
    "for infile in glob.glob( os.path.join(rootdir, 'fes_?.dat') ):\n",
    "    if i >= i:\n",
    "            diffvec.resize((i+1,2))\n",
    "    #print \"current file is: \" + infile\n",
    "    diffvec[i][0]=i*1.0\n",
    "    diffvec[i][1]=func(infile)\n",
    "    i+=1\n",
    "\n",
    "for infile in glob.glob( os.path.join(rootdir, 'fes_??.dat') ):\n",
    "    if i >= i:\n",
    "            diffvec.resize((i+1,2))\n",
    "    #print \"current file is: \" + infile\n",
    "    diffvec[i][0]=i*1.0\n",
    "    diffvec[i][1]=func(infile)\n",
    "    i+=1\n",
    "\n",
    "for infile in glob.glob( os.path.join(rootdir, 'fes_???.dat') ):\n",
    "    if i >= i:\n",
    "            diffvec.resize((i+1,2))\n",
    "    #print \"current file is: \" + infile\n",
    "    diffvec[i][0]=i*1.0\n",
    "    diffvec[i][1]=func(infile)\n",
    "    i+=1\n",
    "    \n",
    "fig = plt.figure(figsize=(6,6)) \n",
    "axes = fig.add_subplot(111)\n",
    "xlabel='time (generic)'\n",
    "ylabel='diff (A-B) (kcal/mol)'\n",
    "axes.plot(diffvec[:,0],diffvec[:,1])\n",
    "axes.set_xlabel(xlabel, fontsize=20)\n",
    "axes.set_ylabel(ylabel, fontsize=20)\n",
    "\n",
    "plt.show()\n"
   ]
  },
  {
   "cell_type": "markdown",
   "metadata": {},
   "source": [
    "### Below this is all testing of different read-in options:"
   ]
  },
  {
   "cell_type": "code",
   "execution_count": null,
   "metadata": {
    "collapsed": false
   },
   "outputs": [],
   "source": [
    "## \n",
    "#read the data in from a text file using genfrom txt\n",
    "fesdata = np.genfromtxt('MetaD_converge/fes_1.dat',comments='#');\n",
    "kT=8.314e-3*300\n",
    "A=0.0\n",
    "B=0.0\n",
    "                   \n",
    "dim=np.shape(fesdata)[0]\n",
    "for i in range(0, dim):\n",
    "    x=fesdata[i][0]\n",
    "    y=fesdata[i][1]\n",
    "    z=fesdata[i][2]\n",
    "    if  x < C1[0]+edge1/2 and x > C1[0]-edge1/2 and y > C1[1]-edge1/2 and y < C1[1]+edge1/2:\n",
    "       A+=np.exp(-z/kT)\n",
    "    if  x < C2[0]+edge2/2 and x > C2[0]-edge2/2 and y > C2[1]-edge2/2 and y < C2[1]+edge2/2:\n",
    "       B+=np.exp(-z/kT)\n",
    "   \n",
    "A=-kT*np.log(A)\n",
    "B=-kT*np.log(B)\n",
    "diff=(A-B)/4.184\n",
    "diff"
   ]
  },
  {
   "cell_type": "code",
   "execution_count": null,
   "metadata": {
    "collapsed": false
   },
   "outputs": [],
   "source": [
    "## \n",
    "#read the data in from a text file using read in commands\n",
    "kT=8.314e-3*300\n",
    "A=0.0\n",
    "B=0.0\n",
    "\n",
    "\n",
    "f = open('MetaD_converge/fes_1.dat', 'r')\n",
    "for line in f:\n",
    "    if line[:1] != '#':\n",
    "        line=line.strip()\n",
    "        if line:\n",
    "            columns = line.split()\n",
    "            x=float(columns[0])\n",
    "            y=float(columns[1])\n",
    "            z=float(columns[2])\n",
    "            if  x < C1[0]+edge1/2 and x > C1[0]-edge1/2 and y > C1[1]-edge1/2 and y < C1[1]+edge1/2:\n",
    "                A+=np.exp(-z/kT)\n",
    "            if  x < C2[0]+edge2/2 and x > C2[0]-edge2/2 and y > C2[1]-edge2/2 and y < C2[1]+edge2/2:\n",
    "                B+=np.exp(-z/kT)\n",
    "\n",
    "f.close\n",
    "            \n",
    "\n",
    "A=-kT*np.log(A)\n",
    "B=-kT*np.log(B)\n",
    "diff=(A-B)/4.184\n",
    "diff"
   ]
  },
  {
   "cell_type": "markdown",
   "metadata": {},
   "source": [
    "#### Profiling speed of different read in options:"
   ]
  },
  {
   "cell_type": "code",
   "execution_count": null,
   "metadata": {
    "collapsed": false
   },
   "outputs": [],
   "source": [
    "file='MetaD/fes.dat'"
   ]
  },
  {
   "cell_type": "code",
   "execution_count": null,
   "metadata": {
    "collapsed": false
   },
   "outputs": [],
   "source": [
    "%timeit diffNP(file)"
   ]
  },
  {
   "cell_type": "code",
   "execution_count": null,
   "metadata": {
    "collapsed": false
   },
   "outputs": [],
   "source": [
    "%timeit diff(file)"
   ]
  },
  {
   "cell_type": "code",
   "execution_count": null,
   "metadata": {
    "collapsed": false
   },
   "outputs": [],
   "source": []
  }
 ],
 "metadata": {
  "kernelspec": {
   "display_name": "Python 2",
   "language": "python",
   "name": "python2"
  },
  "language_info": {
   "codemirror_mode": {
    "name": "ipython",
    "version": 2
   },
   "file_extension": ".py",
   "mimetype": "text/x-python",
   "name": "python",
   "nbconvert_exporter": "python",
   "pygments_lexer": "ipython2",
   "version": "2.7.11"
  }
 },
 "nbformat": 4,
 "nbformat_minor": 0
}
