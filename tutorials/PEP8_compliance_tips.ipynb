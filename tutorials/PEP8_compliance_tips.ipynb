{
 "cells": [
  {
   "cell_type": "markdown",
   "metadata": {},
   "source": [
    "# Tips to make it easier to comply with the PEP8 style guide\n",
    "**Read the style guide [here](https://www.python.org/dev/peps/pep-0008/).**  Please add any additional tips or tricks you discover!\n",
    "\n",
    "\n",
    "### *Tip #1 - line length*\n",
    "One challenge I have in ipython notebook is writing lines that are too long (>79 char), but I \n",
    "don't realize it because the notebook window in my browser is set quite wide.  Here is a way \n",
    "to make your ipython notebook cells show an 80 character-wide window so you know when you've \n",
    "written too long of a line.\n",
    "\n",
    "You are going to make a new profile (or if you want you can edit the default) with a custom css \n",
    "to change how the code cells look.  You can do all this from ipython (as I've done here), or \n",
    "you can do it in terminal if you prefer.  Change the directory names as appropriate below.\n",
    "\n",
    "# NOTE: these instructions for creating a custom profile don't work if you've upgraded to ipython or jupyter 4.x (+)\n",
    "# Instructions for these newer versions are included at the end of this section"
   ]
  },
  {
   "cell_type": "code",
   "execution_count": 7,
   "metadata": {
    "collapsed": false
   },
   "outputs": [
    {
     "name": "stderr",
     "output_type": "stream",
     "text": [
      "mkdir: /Users/houghb/.ipython/profile_blake/static/: File exists\n",
      "mkdir: /Users/houghb/.ipython/profile_blake/static/custom/: File exists\n"
     ]
    }
   ],
   "source": [
    "%%bash\n",
    "ipython profile create blake\n",
    "mkdir /Users/houghb/.ipython/profile_blake/static/\n",
    "mkdir /Users/houghb/.ipython/profile_blake/static/custom/\n",
    "touch /Users/houghb/.ipython/profile_blake/static/custom/custom.css"
   ]
  },
  {
   "cell_type": "markdown",
   "metadata": {},
   "source": [
    "The file that you edit in the next cell (custom.css) will change how your notebook cells look.\n",
    "You can add other customizations, but the one I've included here will make the shaded area of **code**\n",
    "cells 80 characters long (assuming you have the same default font that I do, you may need to edit\n",
    "the width for your system if you change the font).  You will still be able to type lines longer \n",
    "than 80 characters if you want, but will need to scroll left and right to see them.\n",
    "\n",
    "If you want to make **all** cells in your notebook (including Markdown cells) only 80 characters then substitue \"cell\" for \"input\" in this code."
   ]
  },
  {
   "cell_type": "code",
   "execution_count": 8,
   "metadata": {
    "collapsed": false
   },
   "outputs": [
    {
     "name": "stdout",
     "output_type": "stream",
     "text": [
      "Overwriting /Users/houghb/.ipython/profile_blake/static/custom/custom.css\n"
     ]
    }
   ],
   "source": [
    "%%file /Users/houghb/.ipython/profile_blake/static/custom/custom.css\n",
    "/**This is Blake's custom css file**/\n",
    "\n",
    "div.input{\n",
    "    width:107ex;  /* on my system this is an 80 char window */\n",
    "}"
   ]
  },
  {
   "cell_type": "markdown",
   "metadata": {},
   "source": [
    "To use your newly created custom.css you need to start ipython notebook with the command following command.\n",
    "\n",
    "*ipython notebook --profile=blake* **(substitute your profile name instead of blakecss)**\n",
    "\n",
    "# If you've updated to ipython or jupyter 4.X(+):\n",
    "\n",
    "Instead of saving your file in .../.ipython/profile_blake/static/custom/custom.css, save it in the .jupyter directory:\n",
    "\n"
   ]
  },
  {
   "cell_type": "code",
   "execution_count": 9,
   "metadata": {
    "collapsed": false
   },
   "outputs": [
    {
     "name": "stdout",
     "output_type": "stream",
     "text": [
      "Overwriting /Users/houghb/.jupyter/custom/custom.css\n"
     ]
    }
   ],
   "source": [
    "%%file /Users/houghb/.jupyter/custom/custom.css\n",
    "/**This is Blake's custom css file**/\n",
    "\n",
    "div.input{\n",
    "    width:107ex;  /* on my system this is an 80 char window */\n",
    "}"
   ]
  },
  {
   "cell_type": "markdown",
   "metadata": {
    "collapsed": true
   },
   "source": [
    "### *Tip #2 - PEP8 cell magic*\n",
    "This doesn't work for me, and I think it is because I am still using python 2.7, but if you have upgraded to python 3.x then it might work for you and would be really helpful.  From the examples I've seen, this cell magic will use the pep8 package to check the code in a notebook cell and identify everything that is not PEP8 compliant.  You can also do this yourself on a .py file from terminal using the pep8 package, but this magic would be much more convenient if you are already using python 3.  Get instructions here: https://github.com/ipython/ipython/wiki/Extensions-Index#pep8  \n",
    "\n",
    "As an alternative, Michael found this website that does the same thing, all you need to do is copy and paste your code: http://pep8online.com/"
   ]
  },
  {
   "cell_type": "code",
   "execution_count": null,
   "metadata": {
    "collapsed": true
   },
   "outputs": [],
   "source": []
  }
 ],
 "metadata": {
  "kernelspec": {
   "display_name": "Python 2",
   "language": "python",
   "name": "python2"
  },
  "language_info": {
   "codemirror_mode": {
    "name": "ipython",
    "version": 2
   },
   "file_extension": ".py",
   "mimetype": "text/x-python",
   "name": "python",
   "nbconvert_exporter": "python",
   "pygments_lexer": "ipython2",
   "version": "2.7.11"
  }
 },
 "nbformat": 4,
 "nbformat_minor": 0
}
