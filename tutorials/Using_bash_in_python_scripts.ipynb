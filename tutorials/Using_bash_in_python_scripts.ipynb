{
 "cells": [
  {
   "cell_type": "code",
   "execution_count": 5,
   "metadata": {
    "collapsed": false
   },
   "outputs": [
    {
     "name": "stdout",
     "output_type": "stream",
     "text": [
      "Wed Jan 13 14:05:11 PST 2016\n",
      "/Users/houghb/Dropbox/Projects/PRG_tutorials/Python\n",
      "PEP8_compliance_tips.ipynb\n",
      "Using_bash_in_python_scripts.ipynb\n",
      "      \"      \\\"    \\\\\\\"### It is also possible to prepend individual bash commands with ! (instead of setting the entire cell to use bash)\\\\\\\\n\\\\\\\",\\\\n\\\",\\n\",\n",
      "      \"    \\\"### It is also possible to prepend individual bash commands with ! (instead of setting the entire cell to use bash)\\\\n\\\",\\n\"\n",
      "    \"grep bash Using_bash_in_python_scripts.ipynb | grep individual\\n\",\n",
      "    \"# It is also possible to prepend individual bash commands with ! (instead of \\n\",\n"
     ]
    }
   ],
   "source": [
    "%%bash\n",
    "# This is ipython cell magic that allows you to use bash commands throughout\n",
    "# the rest of this cell within ipython.\n",
    "\n",
    "date\n",
    "pwd\n",
    "ls\n",
    "grep bash Using_bash_in_python_scripts.ipynb | grep individual\n",
    "\n",
    "# Note 1: %%bash has to be the first entry in your cell\n",
    "# .\n",
    "# Note 2: if you want to run scripts that use ipython magic you can save them\n",
    "# as ipython scripts and run them from terminal using ipython (instead of\n",
    "# python). People without ipython will not be able to use your script though.\n",
    "# .\n",
    "# Note 3: this works for ANY OTHER INTERPRETER on your system (bash, ruby,\n",
    "# perl, zsh, R, etc.) just use %%script perl, or %%script python3, etc"
   ]
  },
  {
   "cell_type": "code",
   "execution_count": 23,
   "metadata": {
    "collapsed": false
   },
   "outputs": [
    {
     "name": "stdout",
     "output_type": "stream",
     "text": [
      "['1.00E+13 0 163254', '1.00E+13 0 163254', '1.00E+13 0 163254', '1.00E+13 0 163254', '1.00E+13 0 184184', '1.00E+13 0 188370', '1.00E+13 0 171626', '1.00E+13 0 179998', '1.00E+13 0 167440', '1.00E+13 0 121394']\n"
     ]
    }
   ],
   "source": [
    "# It is also possible to prepend individual bash commands with ! (instead of\n",
    "# setting the entire cell to use bash). This is helpful if you want to store\n",
    "# the output of something as a python object.  Again, this is ipython magic so\n",
    "# won't work in .py scripts.\n",
    "\n",
    "header = !head rateconstantlist.dat\n",
    "print header"
   ]
  },
  {
   "cell_type": "code",
   "execution_count": null,
   "metadata": {
    "collapsed": false
   },
   "outputs": [],
   "source": [
    "# If you need your bash commands to be able to run from a .py script (i.e. if\n",
    "# you're not using ipython notebook) then use call:\n",
    "\n",
    "# This executes a series of bash commands\n",
    "from subprocess import call\n",
    "call('make -f /scratch/jpfaendt/software/parest/ddasac/software/Makefile;'\n",
    "     'cp -f %s ddat.in;'\n",
    "     './parest -d ddat.in;'\n",
    "     'mv graph.out %s/ddasac_results_1.out;'\n",
    "     'mv net_rates.out %s/ddasac_net_rates_1.out;'\n",
    "     'mv rates.out %s/ddasac_rates_1.out'\n",
    "     % (ddat_outputfile, working_directory, working_directory,\n",
    "        working_directory), shell=True)"
   ]
  }
 ],
 "metadata": {
  "kernelspec": {
   "display_name": "Python 2",
   "language": "python",
   "name": "python2"
  },
  "language_info": {
   "codemirror_mode": {
    "name": "ipython",
    "version": 2
   },
   "file_extension": ".py",
   "mimetype": "text/x-python",
   "name": "python",
   "nbconvert_exporter": "python",
   "pygments_lexer": "ipython2",
   "version": "2.7.11"
  }
 },
 "nbformat": 4,
 "nbformat_minor": 0
}
